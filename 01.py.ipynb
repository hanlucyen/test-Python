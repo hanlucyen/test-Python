{
 "cells": [
  {
   "cell_type": "code",
   "execution_count": 7,
   "id": "64f97786",
   "metadata": {},
   "outputs": [],
   "source": [
    "def kiemtra_nuocsoi(nhiet_do):\n",
    "    print(\"dang thuc hien ham...!\")\n",
    "    if nhiet_do<100:\n",
    "        print(\"nuoc chua soi!\")\n",
    "        return\"nuoc chua soi!\"\n",
    "    else:\n",
    "        print(\"nuoc da soi!\")\n",
    "        return\"nuoc da soi!\"\n",
    "\n",
    "    "
   ]
  },
  {
   "cell_type": "code",
   "execution_count": null,
   "id": "8561818c",
   "metadata": {},
   "outputs": [],
   "source": []
  },
  {
   "cell_type": "code",
   "execution_count": null,
   "id": "9c915204",
   "metadata": {},
   "outputs": [],
   "source": []
  }
 ],
 "metadata": {
  "kernelspec": {
   "display_name": "Python 3",
   "language": "python",
   "name": "python3"
  },
  "language_info": {
   "codemirror_mode": {
    "name": "ipython",
    "version": 3
   },
   "file_extension": ".py",
   "mimetype": "text/x-python",
   "name": "python",
   "nbconvert_exporter": "python",
   "pygments_lexer": "ipython3",
   "version": "3.8.8"
  }
 },
 "nbformat": 4,
 "nbformat_minor": 5
}
